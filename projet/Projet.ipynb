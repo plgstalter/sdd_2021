{
 "cells": [
  {
   "cell_type": "markdown",
   "id": "bdfe3ca1-8dcd-4d67-a9f0-24d1ae74f8cf",
   "metadata": {},
   "source": [
    "# Projet numérique de science des données - NOM 1 Prénom 1 et NOM 2 Prénom 2"
   ]
  },
  {
   "cell_type": "markdown",
   "id": "cd306b34-3910-4c94-8648-550e23d1d6b6",
   "metadata": {},
   "source": [
    "## Introduction au projet\n",
    "\n",
    "Il s'agit dans ce projet d'utiliser des données cartographiques décrivant des carrées de 30m x 30m pour construire un modèle prédictif de l'espèce d'arbre présente sur un tel carré.\n",
    "\n",
    "Le but final est d'appliquer ce modèle pour faire des prédictions pour des données pour lesquelles vous ne disposez pas d'une étiquette.\n",
    "\n",
    "__Consignes :__ \n",
    "* Vous devez rendre, par binôme :\n",
    "    * un notebook jupyter\n",
    "    * un fichier de prédictions (voir plus bas pour le format)\n",
    "* __Renseignez vos noms/prénoms__ dans le titre du notebook\n",
    "* Vous avez jusqu'au __1er juillet midi heure de Paris__\n",
    "* Déposez vos fichiers [sur Campus](https://campus.mines-paristech.fr/course/view.php?id=404) dans la section dédiée (un seul rendu par binôme est nécessaire)\n",
    "\n",
    "\n",
    "__Déroulé :__\n",
    "* Les séances du lundi 14/06 (15h30-17h) et jeudi 24/06 (15h30-17h) sont dédiées au projet numérique. Faites-en bon usage.\n",
    "* Certaines sections font appel à des notions qui n'auront pas encore été vues le 14/06 ; c'est indiqué le cas échéant."
   ]
  },
  {
   "cell_type": "markdown",
   "id": "bdee30fc-75fc-4e62-8070-6a2a8fff2f27",
   "metadata": {},
   "source": [
    "## Données"
   ]
  },
  {
   "cell_type": "markdown",
   "id": "7cd5ed63-af4d-4e79-bf38-f28dce55717e",
   "metadata": {},
   "source": [
    "### Données publiques et privées\n",
    "\n",
    "Le dossier `data/` contient deux jeux de données :\n",
    "* `data/foret_public.tsv` contient les données étiquetées, à partir desquelles construire votre modèle\n",
    "* `data/foret_prive.tsv` contient les données non-étiquetées, pour lesquelles faire vos prédictions.\n",
    "\n",
    "Chaque ligne dans les données correspond à un carré de 30 m x 30m, décrit par les variables suivantes :\n",
    "* `altitude` : altitude en mètres\n",
    "* `exposition` : azimut en degrés \n",
    "* `pente` : pente en degrés\n",
    "* `distance_horizontale_hydro` : distance horizontale au point d'eau le plus proche (en mètres)\n",
    "* `distance_verticale_hydro` : distance verticale au point d'eau le plus proche (en mètres)\n",
    "* `distance_horizontale_route` : distance horizontale à la route la plus proche (en mètres)\n",
    "* `ombrage_0900` : index d'ombrages à 9h du matin, au solstice, sur une échelle de 0 à 255\n",
    "* `ombrage_1200` : index d'ombrages à midi, au solstice, sur une échelle de 0 à 255\n",
    "* `ombrage_1500` : index d'ombrages à 15h, au solstice, sur une échelle de 0 à 255\n",
    "* `distance_horizontale_depart_feu` : distance horizontale au départ de feu de forêt le plus proche (en mètres)\n",
    "* `espece` : étiquette : espèce d'arbre présente (0 = pin tordu ; 1 = peuplier)|"
   ]
  },
  {
   "cell_type": "markdown",
   "id": "fda94d36-60a1-415f-adfb-a3366bc4b292",
   "metadata": {},
   "source": [
    "### Chargement des données étiquetées"
   ]
  },
  {
   "cell_type": "code",
   "execution_count": 2,
   "id": "d75dc6be-91ac-4a26-b40c-a74523e2adf8",
   "metadata": {},
   "outputs": [
    {
     "name": "stdout",
     "output_type": "stream",
     "text": [
      "Populating the interactive namespace from numpy and matplotlib\n"
     ]
    }
   ],
   "source": [
    "%pylab inline"
   ]
  },
  {
   "cell_type": "code",
   "execution_count": 3,
   "id": "b53d281b-c6a6-42b4-949a-4c732f626837",
   "metadata": {},
   "outputs": [],
   "source": [
    "import pandas as pd"
   ]
  },
  {
   "cell_type": "code",
   "execution_count": 4,
   "id": "0c1ef8d0-c3e8-4f31-9bf6-bba291ddfc52",
   "metadata": {},
   "outputs": [],
   "source": [
    "df_public = pd.read_csv('data/foret_public.tsv', delimiter='\\t')"
   ]
  },
  {
   "cell_type": "code",
   "execution_count": 5,
   "id": "8d7fbf16-77e0-47a2-8253-004fea627b2b",
   "metadata": {},
   "outputs": [
    {
     "data": {
      "text/html": [
       "<div>\n",
       "<style scoped>\n",
       "    .dataframe tbody tr th:only-of-type {\n",
       "        vertical-align: middle;\n",
       "    }\n",
       "\n",
       "    .dataframe tbody tr th {\n",
       "        vertical-align: top;\n",
       "    }\n",
       "\n",
       "    .dataframe thead th {\n",
       "        text-align: right;\n",
       "    }\n",
       "</style>\n",
       "<table border=\"1\" class=\"dataframe\">\n",
       "  <thead>\n",
       "    <tr style=\"text-align: right;\">\n",
       "      <th></th>\n",
       "      <th>altitude</th>\n",
       "      <th>exposition</th>\n",
       "      <th>pente</th>\n",
       "      <th>distance_horizontale_hydro</th>\n",
       "      <th>distance_verticale_hydro</th>\n",
       "      <th>distance_horizontale_route</th>\n",
       "      <th>ombrage_0900</th>\n",
       "      <th>ombrage_1200</th>\n",
       "      <th>ombrage_1500</th>\n",
       "      <th>distance_horizontale_depart_feu</th>\n",
       "      <th>espece</th>\n",
       "    </tr>\n",
       "  </thead>\n",
       "  <tbody>\n",
       "    <tr>\n",
       "      <th>0</th>\n",
       "      <td>2804</td>\n",
       "      <td>139</td>\n",
       "      <td>9</td>\n",
       "      <td>268</td>\n",
       "      <td>65</td>\n",
       "      <td>3180</td>\n",
       "      <td>234</td>\n",
       "      <td>238</td>\n",
       "      <td>135</td>\n",
       "      <td>6121</td>\n",
       "      <td>0</td>\n",
       "    </tr>\n",
       "    <tr>\n",
       "      <th>1</th>\n",
       "      <td>2785</td>\n",
       "      <td>155</td>\n",
       "      <td>18</td>\n",
       "      <td>242</td>\n",
       "      <td>118</td>\n",
       "      <td>3090</td>\n",
       "      <td>238</td>\n",
       "      <td>238</td>\n",
       "      <td>122</td>\n",
       "      <td>6211</td>\n",
       "      <td>0</td>\n",
       "    </tr>\n",
       "    <tr>\n",
       "      <th>2</th>\n",
       "      <td>2579</td>\n",
       "      <td>132</td>\n",
       "      <td>6</td>\n",
       "      <td>300</td>\n",
       "      <td>-15</td>\n",
       "      <td>67</td>\n",
       "      <td>230</td>\n",
       "      <td>237</td>\n",
       "      <td>140</td>\n",
       "      <td>6031</td>\n",
       "      <td>0</td>\n",
       "    </tr>\n",
       "    <tr>\n",
       "      <th>3</th>\n",
       "      <td>2886</td>\n",
       "      <td>151</td>\n",
       "      <td>11</td>\n",
       "      <td>371</td>\n",
       "      <td>26</td>\n",
       "      <td>5253</td>\n",
       "      <td>234</td>\n",
       "      <td>240</td>\n",
       "      <td>136</td>\n",
       "      <td>4051</td>\n",
       "      <td>0</td>\n",
       "    </tr>\n",
       "    <tr>\n",
       "      <th>4</th>\n",
       "      <td>2742</td>\n",
       "      <td>134</td>\n",
       "      <td>22</td>\n",
       "      <td>150</td>\n",
       "      <td>69</td>\n",
       "      <td>3215</td>\n",
       "      <td>248</td>\n",
       "      <td>224</td>\n",
       "      <td>92</td>\n",
       "      <td>6091</td>\n",
       "      <td>0</td>\n",
       "    </tr>\n",
       "  </tbody>\n",
       "</table>\n",
       "</div>"
      ],
      "text/plain": [
       "   altitude  exposition  pente  distance_horizontale_hydro  \\\n",
       "0      2804         139      9                         268   \n",
       "1      2785         155     18                         242   \n",
       "2      2579         132      6                         300   \n",
       "3      2886         151     11                         371   \n",
       "4      2742         134     22                         150   \n",
       "\n",
       "   distance_verticale_hydro  distance_horizontale_route  ombrage_0900  \\\n",
       "0                        65                        3180           234   \n",
       "1                       118                        3090           238   \n",
       "2                       -15                          67           230   \n",
       "3                        26                        5253           234   \n",
       "4                        69                        3215           248   \n",
       "\n",
       "   ombrage_1200  ombrage_1500  distance_horizontale_depart_feu  espece  \n",
       "0           238           135                             6121       0  \n",
       "1           238           122                             6211       0  \n",
       "2           237           140                             6031       0  \n",
       "3           240           136                             4051       0  \n",
       "4           224            92                             6091       0  "
      ]
     },
     "execution_count": 5,
     "metadata": {},
     "output_type": "execute_result"
    }
   ],
   "source": [
    "df_public.head()"
   ]
  },
  {
   "cell_type": "code",
   "execution_count": 6,
   "id": "5588c8f2-d8a4-41ee-bea7-5aaee0a74e5d",
   "metadata": {},
   "outputs": [],
   "source": [
    "colonnes = df_public.columns.to_list()"
   ]
  },
  {
   "cell_type": "markdown",
   "id": "0e2e1234-df6f-45ed-9183-8855e9aaf4f1",
   "metadata": {},
   "source": [
    "### Extraction de la matrice de design et des étiquettes "
   ]
  },
  {
   "cell_type": "code",
   "execution_count": 7,
   "id": "8a6eb7b7-9648-4dd2-924b-0a6686e225ba",
   "metadata": {},
   "outputs": [],
   "source": [
    "X_public = np.array(df_public.drop(columns=[\"espece\"]))\n",
    "y_public = np.array(df_public[\"espece\"])"
   ]
  },
  {
   "cell_type": "markdown",
   "id": "2097f148-8f09-4447-b6f4-a53fac8e4597",
   "metadata": {},
   "source": [
    "### Visualisation des variables\n",
    "\n",
    "#### Question 1\n",
    "Visualisez chacune des variables de `X_public` sous la forme de deux histogrammes superposés, l'un correspondant aux observations de la classe positive, l'autre correspondant aux observations de la classe négative.\n",
    "\n",
    "__Conseils :__\n",
    "* utilisez `pos_indices = np.where(y_public==1)[0]` pour déterminer les indices des lignes de `y_public` (et donc dans `X_public`) dont l'étiquette vaut 0.\n",
    "* utilisez l'argument `alpha` de `plt.hist` pour rendre vos histogrammes transparents."
   ]
  },
  {
   "cell_type": "code",
   "execution_count": 8,
   "id": "09dcf26f-c3ab-4b1f-85fc-9d951208edf9",
   "metadata": {},
   "outputs": [
    {
     "data": {
      "image/png": "[encoded data removed]",
      "text/plain": [
       "<Figure size 720x1080 with 10 Axes>"
      ]
     },
     "metadata": {
      "needs_background": "light"
     },
     "output_type": "display_data"
    }
   ],
   "source": [
    "fig = plt.figure(figsize=(10, 15))\n",
    "for i in range(10):\n",
    "    ax = fig.add_subplot(10, 2, 2*i + 2)\n",
    "    ax.hist(X_public[:, i][np.where(y_public==0)[0]], bins=20, alpha=.6, color='blue')\n",
    "    ax.set_title(f\"{colonnes[i]}\")\n",
    "    ax.hist(X_public[:, i][np.where(y_public==1)[0]], bins=20, alpha=.6, color='orange')\n",
    "    ax.legend('01')\n",
    "fig.tight_layout(pad=1.0)"
   ]
  },
  {
   "cell_type": "markdown",
   "id": "da1aa716-c22d-4710-8f03-1ee2d60b8aba",
   "metadata": {},
   "source": [
    "#### Question 2\n",
    "Pensez-vous qu'il va être aisé de distinguer les deux classes ?"
   ]
  },
  {
   "cell_type": "markdown",
   "id": "e756cc78-dae1-418f-b82c-10d412819541",
   "metadata": {},
   "source": [
    "Cela semble difficile : il y a, pour la plupart des caractéristiques (ombrage, distance hydro, pente par exemple), une forte corrélation entre les deux. D'autres caractéristiques sont (un peu) plus discriminantes : distance feu ..."
   ]
  },
  {
   "cell_type": "markdown",
   "id": "d4a88a2e-5928-43e8-b2f3-d574e76a6ddd",
   "metadata": {},
   "source": [
    "### Pré-traitement des variables"
   ]
  },
  {
   "cell_type": "markdown",
   "id": "19c589d4-631e-44c6-9c96-b6b3a0db4466",
   "metadata": {},
   "source": [
    "#### Question 3\n",
    "Transformez vos variables d'une manière qui vous parait judicieuse, en vous appuyant notamment sur la PC 3. Vous pouvez essayer différents pré-traitements, mais ce n'est pas nécessaire. Justifiez vos choix. Utilisez un array numpy `X_public_preprocessed` pour enregistrer le résultat."
   ]
  },
  {
   "cell_type": "markdown",
   "id": "4bd0af2f-313b-4369-b9ba-38361b9e670d",
   "metadata": {},
   "source": [
    "#### Réponse\n",
    "\n",
    "Une première idée est de centrer et réduire les variables, car elles évoluent sur des plages différentes."
   ]
  },
  {
   "cell_type": "code",
   "execution_count": 9,
   "id": "2b8c75b3-c455-4259-9994-c3732f42d6bf",
   "metadata": {},
   "outputs": [],
   "source": [
    "def scaler(tab):\n",
    "    return (tab - np.mean(tab))/np.std(tab)"
   ]
  },
  {
   "cell_type": "code",
   "execution_count": 10,
   "id": "6f7388c8-212a-4e58-8a94-d7a8780a32d7",
   "metadata": {},
   "outputs": [],
   "source": [
    "X_public_preprocessed = np.array([scaler(X_public[:, i]) for i in range(10)]).T"
   ]
  },
  {
   "cell_type": "code",
   "execution_count": 11,
   "id": "f7bd1fb9-9048-4257-8c36-5a61848bf014",
   "metadata": {},
   "outputs": [
    {
     "data": {
      "image/png": "[encoded data removed]",
      "text/plain": [
       "<Figure size 720x1080 with 10 Axes>"
      ]
     },
     "metadata": {
      "needs_background": "light"
     },
     "output_type": "display_data"
    }
   ],
   "source": [
    "fig = plt.figure(figsize=(10, 15))\n",
    "for i in range(10):\n",
    "    ax = fig.add_subplot(10, 2, 2*i + 2)\n",
    "    ax.hist(X_public_preprocessed[:, i][np.where(y_public==0)[0]], bins=20, alpha=.6, color='blue')\n",
    "    ax.set_title(f\"{colonnes[i]}\")\n",
    "    ax.hist(X_public_preprocessed[:, i][np.where(y_public==1)[0]], bins=20, alpha=.6, color='orange')\n",
    "    ax.legend('01')\n",
    "fig.tight_layout(pad=1.0)"
   ]
  },
  {
   "cell_type": "markdown",
   "id": "cb82bf83-2130-4d0f-98d1-49faa8578d3d",
   "metadata": {},
   "source": [
    "## Premier modèle : 5-NN"
   ]
  },
  {
   "cell_type": "markdown",
   "id": "cac6e657-3b8f-4576-b192-119cea1a65ef",
   "metadata": {},
   "source": [
    "### Algorithme des k plus proches voisins"
   ]
  },
  {
   "cell_type": "markdown",
   "id": "c05c88df-2666-44f9-8c5d-067e32238a82",
   "metadata": {},
   "source": [
    "Nous n'avons pas encore vu d'algorithme permettant d'entraîner un modèle de classification. Nous allons donc commencer avec un modèle simple : celui des __k plus proches voisins__ (ou __kNN__, pour _k nearest neighbors_).\n",
    "\n",
    "Dans ce modèle, la valeur de la fonction de décision en x est la proportion d'individus d'étiquette positive parmi les k plus proches voisins de x au sein des points du jeu d'entraînement ; k est fixé."
   ]
  },
  {
   "cell_type": "markdown",
   "id": "3f093f4a-6905-4404-9a34-4aa3e0b70bcf",
   "metadata": {},
   "source": [
    "Nous allons commencer par utiliser un algorithme des k plus proches voisins avec k fixé à k=5."
   ]
  },
  {
   "cell_type": "markdown",
   "id": "9c9ac02f-3035-47a7-8a75-9ebd604ffae9",
   "metadata": {},
   "source": [
    "#### Question 4\n",
    "\n",
    "Entraînez un modèle des sur les données `(X_public_preprocessed, y_public)` grâce à la classe `KNeighborsClassifier` du module `neighbors` de `sklearn`, utilisez l'algorithme des 5 plus proches voisins pour entrainer un modèle sur votre jeu d'entraînement.\n",
    "\n",
    "Documentation https://scikit-learn.org/stable/modules/generated/sklearn.neighbors.KNeighborsClassifier.html"
   ]
  },
  {
   "cell_type": "code",
   "execution_count": 12,
   "id": "747297ef-4a20-4e9f-af49-f9188f0e6027",
   "metadata": {},
   "outputs": [],
   "source": [
    "from sklearn import neighbors"
   ]
  },
  {
   "cell_type": "code",
   "execution_count": 13,
   "id": "2d51ed84-98b2-4ac7-84a4-d21f2b652b9b",
   "metadata": {},
   "outputs": [],
   "source": [
    "_5NN_predictor = neighbors.KNeighborsClassifier(n_neighbors=5)"
   ]
  },
  {
   "cell_type": "code",
   "execution_count": 40,
   "id": "4781ea8f-6a81-4247-8359-acc55c45b15b",
   "metadata": {},
   "outputs": [
    {
     "data": {
      "text/plain": [
       "KNeighborsClassifier()"
      ]
     },
     "execution_count": 40,
     "metadata": {},
     "output_type": "execute_result"
    }
   ],
   "source": [
    "_5NN_predictor.fit(X_public_preprocessed, y_public)"
   ]
  },
  {
   "cell_type": "code",
   "execution_count": 41,
   "id": "043c62c9-9063-4efc-9eb5-57281e57162c",
   "metadata": {},
   "outputs": [],
   "source": [
    "y_pred = _5NN_predictor.predict(X_public_preprocessed)"
   ]
  },
  {
   "cell_type": "markdown",
   "id": "53b34345-fa60-47de-904f-e44e655e9ccd",
   "metadata": {},
   "source": [
    "### Performance\n",
    "\n",
    "Il existe de nombreuses métriques pour évaluer les performances d'un algorithme de classification. Nous allons ici utiliser le F-score, dont vous trouverez une description dans la documentation du module `metrics` de `sklearn` : https://scikit-learn.org/stable/modules/generated/sklearn.metrics.f1_score.html#sklearn.metrics.f1_score et https://scikit-learn.org/stable/modules/model_evaluation.html#precision-recall-f-measure-metrics.\n",
    "\n",
    "#### Question 5\n",
    "Quel serait sur nos données le F-score d'un modèle naïf prédisant systématiquement la classe positive ?"
   ]
  },
  {
   "cell_type": "code",
   "execution_count": 19,
   "id": "03d9d47d-947b-4151-9481-25d8a462877a",
   "metadata": {},
   "outputs": [],
   "source": [
    "from sklearn.metrics import f1_score"
   ]
  },
  {
   "cell_type": "code",
   "execution_count": 24,
   "id": "28f05699-fdf4-4444-b7fa-5dc7f57b85f9",
   "metadata": {},
   "outputs": [],
   "source": [
    "y_naif = np.ones_like(y_pred)"
   ]
  },
  {
   "cell_type": "code",
   "execution_count": 25,
   "id": "3530b801-96c5-479a-9018-662dd99b022d",
   "metadata": {},
   "outputs": [
    {
     "name": "stdout",
     "output_type": "stream",
     "text": [
      "On trouve 0.667, sachant que le score est compris entre 0 (pas bien) et 1 (très bien)\n"
     ]
    }
   ],
   "source": [
    "print(f\"On trouve {round(f1_score(y_public, y_naif), 3)}, sachant que le score est compris entre 0 (pas bien) et 1 (très bien)\")"
   ]
  },
  {
   "cell_type": "markdown",
   "id": "9c608f7e-e309-4127-9011-7e906000dadc",
   "metadata": {},
   "source": [
    "#### Question 6\n",
    "\n",
    "Quelle est le F-score du modèle de 5 plus proches voisins que vous venez d'entraîner, sur les données `(X_public_preprocessed, y_public)` ?"
   ]
  },
  {
   "cell_type": "code",
   "execution_count": 26,
   "id": "a00a75f3-2767-41c2-8b49-e4287897c9d0",
   "metadata": {},
   "outputs": [
    {
     "name": "stdout",
     "output_type": "stream",
     "text": [
      "Le f1_score vaut 0.929. On prédit donc mieux qu'en étant simplement naïf. C'est une bonne nouvelle !\n"
     ]
    }
   ],
   "source": [
    "print(f\"Le f1_score vaut {round(f1_score(y_public, y_pred), 3)}. On prédit donc mieux qu'en étant simplement naïf. C'est une bonne nouvelle !\")"
   ]
  },
  {
   "cell_type": "markdown",
   "id": "c4c1d437-e850-40b2-ae6d-aeeedb1090ce",
   "metadata": {},
   "source": [
    "#### Question 7\n",
    "* Que pensez-vous de cette performance ? \n",
    "* Est-ce une bonne idée d'évaluer le modèle sur le jeu d'entraînement ? (Réfléchissez en particulier au cas où k=1.)"
   ]
  },
  {
   "cell_type": "code",
   "execution_count": null,
   "id": "e47a4f70-ba3c-4a00-89b7-da7613833e7e",
   "metadata": {},
   "outputs": [],
   "source": [
    "# a faire"
   ]
  },
  {
   "cell_type": "markdown",
   "id": "fe3d729e-53f6-48ed-991b-f9f0f6673f94",
   "metadata": {},
   "source": [
    "## Création d'un jeu de test\n",
    "\n",
    "À partir de maintenant, nous allons séparer les données en un jeu d'entraînement, que nous utiliserons pour entraîner différents modèles, et un jeu de test, que nous utiliserons pour les comparer. (Cf CM 8)."
   ]
  },
  {
   "cell_type": "code",
   "execution_count": 28,
   "id": "00908d3c-3d44-48a6-b408-0ed2e78de0ec",
   "metadata": {},
   "outputs": [],
   "source": [
    "from sklearn import model_selection"
   ]
  },
  {
   "cell_type": "code",
   "execution_count": 29,
   "id": "47ce3a28-dfc8-4023-abdf-f7ad1c4227d5",
   "metadata": {},
   "outputs": [
    {
     "data": {
      "text/plain": [
       "((4800, 10), (1200, 10))"
      ]
     },
     "execution_count": 29,
     "metadata": {},
     "output_type": "execute_result"
    }
   ],
   "source": [
    "# Use 20% for testing\n",
    "X_train, X_test, y_train, y_test = model_selection.train_test_split(X_public, y_public, test_size=0.20,\n",
    "                                                                    stratify=y_public,\n",
    "                                                                    random_state=42) \n",
    "X_train.shape, X_test.shape"
   ]
  },
  {
   "cell_type": "markdown",
   "id": "06cf00af-77f5-4051-a05a-ab9432b228a0",
   "metadata": {},
   "source": [
    "### Performance sur le jeu de test d'un 5-NN entraîné sur le jeu d'entrainement"
   ]
  },
  {
   "cell_type": "markdown",
   "id": "c44f1211-a214-47a5-a709-0590c9dd01a8",
   "metadata": {},
   "source": [
    "#### Question 8.a \n",
    "\n",
    "Entrainez de nouveau un modèle avec l'algorithme des 5 plus proches voisins, mais cette fois, utilisez uniquement le jeu d'entraînement. __Attention__ à bien « entraîner » votre pre-processing sur le jeu d'entraînement seulement ; considérez le jeu de test comme des données que vous ne voyez pas au moment de l'entraînement."
   ]
  },
  {
   "cell_type": "code",
   "execution_count": 42,
   "id": "fa168ef9-edb0-4f8a-9f66-6b745b1b5709",
   "metadata": {},
   "outputs": [
    {
     "data": {
      "text/plain": [
       "KNeighborsClassifier()"
      ]
     },
     "execution_count": 42,
     "metadata": {},
     "output_type": "execute_result"
    }
   ],
   "source": [
    "_25NN_predictor = neighbors.KNeighborsClassifier(n_neighbors=5)\n",
    "_25NN_predictor.fit(X_train, y_train)"
   ]
  },
  {
   "cell_type": "code",
   "execution_count": 43,
   "id": "1aa536c1-9041-486e-9a86-183a003c4385",
   "metadata": {},
   "outputs": [],
   "source": [
    "y_pred_2 = _25NN_predictor.predict(X_test)"
   ]
  },
  {
   "cell_type": "markdown",
   "id": "7499da0b-24f7-4e9a-8b67-f9aa05005aa1",
   "metadata": {},
   "source": [
    "#### Question 8.b\n",
    "Évaluez le F-score sur le jeu de test du modèle entraîné à la question précédente."
   ]
  },
  {
   "cell_type": "code",
   "execution_count": 44,
   "id": "3d453b21-9ff3-4cf7-b6a7-75a74bf7eaff",
   "metadata": {},
   "outputs": [
    {
     "name": "stdout",
     "output_type": "stream",
     "text": [
      "Le f1_score vaut 0.924.\n"
     ]
    }
   ],
   "source": [
    "print(f\"Le f1_score vaut {round(f1_score(y_test, y_pred_2), 3)}.\")"
   ]
  },
  {
   "cell_type": "markdown",
   "id": "9beee624-9828-4c0a-8f1f-1930df57d9fb",
   "metadata": {},
   "source": [
    "#### Question 9\n",
    "Commentez le F-score obtenu ci-dessus."
   ]
  },
  {
   "cell_type": "markdown",
   "id": "2a82d8aa-b59b-41cb-8da4-e78198a8197a",
   "metadata": {},
   "source": [
    "C'est très bien, mais ça reste légèrement inférieur à celui sans test."
   ]
  },
  {
   "cell_type": "markdown",
   "id": "a6405b44-a6fe-4c66-b49d-7abef561b6cc",
   "metadata": {},
   "source": [
    "## [À partir du CM 8 / de la PC 4] Sélection du nombre de plus proches voisins"
   ]
  },
  {
   "cell_type": "markdown",
   "id": "6d956186-5bbc-461f-af32-96e0d25988d2",
   "metadata": {},
   "source": [
    "#### Question 10.a \n",
    "Utilisez maintenant une validation croisée pour sélectionner la valeur optimale du nombre de voisins avec `GridSearchCV` (voir notamment PC4). \n",
    "\n",
    "Vous pouvez utiliser la grille de valeurs de k suivante, ou la modifier :"
   ]
  },
  {
   "cell_type": "code",
   "execution_count": null,
   "id": "16f3d578-78c0-43cc-a3eb-12b67de43810",
   "metadata": {},
   "outputs": [],
   "source": []
  },
  {
   "cell_type": "markdown",
   "id": "8ef9a205-e9a3-47d8-b625-cd68473479f3",
   "metadata": {},
   "source": [
    "#### Question 10.b\n",
    "Quel est le F-score correspondant au nombre de voisin optimal ?"
   ]
  },
  {
   "cell_type": "code",
   "execution_count": null,
   "id": "886a46e6-eda1-4f07-a8ae-00f1e8b77541",
   "metadata": {},
   "outputs": [],
   "source": []
  },
  {
   "cell_type": "markdown",
   "id": "338daf11-91b5-4dec-86c9-e5e9029c3215",
   "metadata": {},
   "source": [
    "#### Question 10.c\n",
    "\n",
    "Quel est le F-score, sur le jeu de test, d'un modèle obtenu en entraînant un algorithme des k plus proches voisins, avec le k que vous venez de déterminer, sur le jeu d'entraînement ? Commentez."
   ]
  },
  {
   "cell_type": "code",
   "execution_count": null,
   "id": "429bacda-f440-4f39-b5ac-ca5b9e2f8732",
   "metadata": {},
   "outputs": [],
   "source": []
  },
  {
   "cell_type": "markdown",
   "id": "c1a42476-6aff-42a0-91f8-5769bcaab49e",
   "metadata": {},
   "source": [
    "## [À partir de la PC 5] Régression logistique"
   ]
  },
  {
   "cell_type": "markdown",
   "id": "327cd4c2-b134-49e9-83ae-532ec909e97f",
   "metadata": {},
   "source": [
    "### Régression logistique non-régularisée"
   ]
  },
  {
   "cell_type": "markdown",
   "id": "96c0295c-3839-41d8-9005-2fed00d960b3",
   "metadata": {},
   "source": [
    "#### Question 11.a\n",
    "\n",
    "Entraînez une régression logistique non-régularisée sur le jeu d'entraînement.\n",
    "\n",
    "__Conseils :__\n",
    "* Vous trouverez les outils nécessaires dans la classe `LogisticRegression` du module `linear_model` de `scikit-learn` ; il s'agit ainsi d'une variante de la PC5. Comme toujours, référez-vous à la [documentation](https://scikit-learn.org/stable/modules/generated/sklearn.linear_model.LogisticRegression.html).\n",
    "* Pour ne pas avoir de régularisation, utilisez `penalty='none'`"
   ]
  },
  {
   "cell_type": "code",
   "execution_count": null,
   "id": "3edb4e05-3c38-414e-a212-64ac18fef289",
   "metadata": {},
   "outputs": [],
   "source": []
  },
  {
   "cell_type": "markdown",
   "id": "151f97c2-a12f-4768-9a24-287ba966264a",
   "metadata": {},
   "source": [
    "#### Question 11.b\n",
    "Évaluez le F-score de cette régression logistique non-régularisée sur le jeu de test."
   ]
  },
  {
   "cell_type": "code",
   "execution_count": null,
   "id": "f1155783-d782-49d4-b69e-1b1e6512e10f",
   "metadata": {},
   "outputs": [],
   "source": []
  },
  {
   "cell_type": "markdown",
   "id": "f2b09008-984c-4027-84d9-4bc34bf66e17",
   "metadata": {},
   "source": [
    "#### Question 12\n",
    "Vous attendez-vous à ce qu'utiliser une régularisation l2 améliore les performances du modèle ? Pourquoi ?"
   ]
  },
  {
   "cell_type": "code",
   "execution_count": null,
   "id": "6b983f35-1243-4175-8025-50485ed1eae0",
   "metadata": {},
   "outputs": [],
   "source": []
  },
  {
   "cell_type": "markdown",
   "id": "9f77f9d8-168f-4db4-bd3b-374447ca90d5",
   "metadata": {},
   "source": [
    "#### Question 13.a\n",
    "Déterminez par validation croisée une valeur optimale du coefficient de régularisation d'une régression logistique avec régularisation ridge."
   ]
  },
  {
   "cell_type": "code",
   "execution_count": null,
   "id": "465f5a44-ace6-4819-9c49-38297f60bb59",
   "metadata": {},
   "outputs": [],
   "source": []
  },
  {
   "cell_type": "markdown",
   "id": "1211c7e8-986d-4e46-918e-f09f7215c924",
   "metadata": {
    "tags": []
   },
   "source": [
    "#### Question 13.b\n",
    "Quel est le F-score, sur le jeu de test, d'une régression logistique avec régularisation ridge et ce coefficient de régularisation optimal, entraînée sur le jeu d'entraînement ?"
   ]
  },
  {
   "cell_type": "code",
   "execution_count": null,
   "id": "52428c16-db07-4202-bf97-8ada338b01b9",
   "metadata": {},
   "outputs": [],
   "source": []
  },
  {
   "cell_type": "markdown",
   "id": "e3b96e96-3fb2-440f-a647-92c89c26426f",
   "metadata": {},
   "source": [
    "#### Question 13.c\n",
    "Commentez ce résultat en regard de votre réponse à la question 12."
   ]
  },
  {
   "cell_type": "code",
   "execution_count": null,
   "id": "af002bc9-d817-4e15-987c-769e8ee7d0ac",
   "metadata": {},
   "outputs": [],
   "source": []
  },
  {
   "cell_type": "markdown",
   "id": "c8c07f73-7036-484d-825f-f9675f9fd824",
   "metadata": {},
   "source": [
    "#### Question 14\n",
    "\n",
    "Entraînez une forêt aléatoire sur le jeu d'entraînement et évaluez son F-score sur le jeu de test.\n",
    "\n",
    "__Conseils :__\n",
    "* Vous trouverez les outils nécessaires dans la classe `RandomForestClassifier` du module `ensemble` de `scikit-learn`.\n",
    "* Choisissez le nombre d'arbres par validation croisée."
   ]
  },
  {
   "cell_type": "code",
   "execution_count": null,
   "id": "057e8c43-171d-47db-b48d-f1928c0dca6e",
   "metadata": {},
   "outputs": [],
   "source": []
  },
  {
   "cell_type": "markdown",
   "id": "e6bf8638-7c60-4b36-9266-0dcc83bd2e8f",
   "metadata": {},
   "source": [
    "## Modèle final"
   ]
  },
  {
   "cell_type": "markdown",
   "id": "23fe7ea4-f2c3-4567-8184-9d73e3b98526",
   "metadata": {},
   "source": [
    "#### Question 15.a\n",
    "Visualisez les performances des différents modèles (et pré-traitements) que vous avez évalués sur le jeu de test."
   ]
  },
  {
   "cell_type": "code",
   "execution_count": null,
   "id": "4d256cef-8aef-4ddd-a956-e598e73ab5bd",
   "metadata": {},
   "outputs": [],
   "source": []
  },
  {
   "cell_type": "markdown",
   "id": "133426fd-c186-4b43-b979-70215480efaf",
   "metadata": {},
   "source": [
    "#### Question 15.b\n",
    "Utilisez cette figure pour __sélectionner votre modèle favori__. Quel pré-traitement choisissez-vous ? Quel algorithme choisissez-vous, avec quel hyper-paramètre ? "
   ]
  },
  {
   "cell_type": "code",
   "execution_count": null,
   "id": "21758fd0-5925-4b7d-9869-833b40dac346",
   "metadata": {},
   "outputs": [],
   "source": []
  },
  {
   "cell_type": "markdown",
   "id": "5ce64660-fb7a-4849-b59d-c6624fed6742",
   "metadata": {},
   "source": [
    "#### Question 16.a\n",
    "Chargez les données privées de `data/foret_prive.tsv` pour obtenir un array `X_private`. Le fichier suit la même syntaxe que `data/foret_public.tsv`, mais sans la colonne des étiquettes."
   ]
  },
  {
   "cell_type": "code",
   "execution_count": null,
   "id": "229653f4-f509-4c99-b5c1-80617ab35b88",
   "metadata": {},
   "outputs": [],
   "source": []
  },
  {
   "cell_type": "markdown",
   "id": "65d60735-a40d-48d7-869b-d337bcd95077",
   "metadata": {},
   "source": [
    "#### Question 16.b\n",
    "Appliquez le pré-traitement que vous avez choisi à l'intégralité du jeu de données public `X_public` pour obtenir `X_public_preprocessed`."
   ]
  },
  {
   "cell_type": "code",
   "execution_count": null,
   "id": "bae0c4bb-a824-4263-b386-e155e009ca40",
   "metadata": {},
   "outputs": [],
   "source": []
  },
  {
   "cell_type": "markdown",
   "id": "77c1fb7c-ffe7-470f-b58b-8041c9b10330",
   "metadata": {},
   "source": [
    "#### Question 16.c\n",
    "Appliquez à `X_private` le pré-traitement que vous avez choisi ; enregistrez le résultat dans `X_private_preprocessed`."
   ]
  },
  {
   "cell_type": "code",
   "execution_count": null,
   "id": "254e1192-0182-402d-8d4d-70de64973407",
   "metadata": {},
   "outputs": [],
   "source": []
  },
  {
   "cell_type": "markdown",
   "id": "ef4bb670-3f6d-4047-bc90-1fc978172854",
   "metadata": {},
   "source": [
    "#### Question 16.d\n",
    "Entraînez l'algorithme que vous avez sélectionné sur l'intégralité des données publiques `(X_public_processed, y_public)`. "
   ]
  },
  {
   "cell_type": "code",
   "execution_count": null,
   "id": "d91647fe-70f5-49b2-8ef3-fb7e015be967",
   "metadata": {},
   "outputs": [],
   "source": []
  },
  {
   "cell_type": "markdown",
   "id": "25e2c093-fa21-48ff-a0e6-6a747740edbc",
   "metadata": {},
   "source": [
    "#### Question 16.e\n",
    "Prédisez les étiquettes de `X_private_preprocessed` ; enregistrez le résultat dans un array `y_pred_final`"
   ]
  },
  {
   "cell_type": "code",
   "execution_count": null,
   "id": "9107f388-d6ec-48cd-bff7-abf0712cb3b0",
   "metadata": {},
   "outputs": [],
   "source": []
  },
  {
   "cell_type": "markdown",
   "id": "1f05b749-386e-460f-955d-c6e4d3852e13",
   "metadata": {},
   "source": [
    "#### Question 16.f\n",
    "Utilisez le code suivant pour créer le fichier de prédictions que vous rendrez. \n",
    "\n",
    "__Attention__ Si vous ouvrez ce fichier avec un programme externe type Microsoft Excel ou LibreOffice Calc pour le lire, il est possible que ce programme modifie le fichier sans que vous ne le réalisiez. Préférez utiliser une commande bash type `less` ou `cat` ou éditeur de texte simple ; ou alors assurez-vous de relancer la commande."
   ]
  },
  {
   "cell_type": "code",
   "execution_count": null,
   "id": "8bd3d46b-ea54-4029-9742-c68719b25f29",
   "metadata": {},
   "outputs": [],
   "source": [
    "# Save array to file\n",
    "np.savetxt(\"test_file.tsv\", \n",
    "           y_pred_final,\n",
    "           fmt=('%d'), \n",
    "           header='Prediction',\n",
    "           delimiter='\\t', comments=\"\")"
   ]
  },
  {
   "cell_type": "markdown",
   "id": "ba074584-047b-4423-8cc5-1398a31d0bae",
   "metadata": {},
   "source": [
    "## Bonus"
   ]
  },
  {
   "cell_type": "markdown",
   "id": "744665a6-49fe-4d64-95a9-95e20dec9517",
   "metadata": {},
   "source": [
    "1. En alternative au F-score, utilisez des courbes ROC (et l'aire sous ces courbes) pour comparer vos modèles. Attention à utiliser les méthodes `predict_proba()` plutôt que `predict()` pour obtenir des scores non-seuillés plutôt que des prédictions binaires. Documentation pertinente : https://scikit-learn.org/stable/modules/generated/sklearn.metrics.plot_roc_curve.html et  https://scikit-learn.org/stable/modules/generated/sklearn.metrics.roc_auc_score.html.\n",
    "\n",
    "1. Explorez d'autres pré-traitements (comme par exemple le fait de réduire la dimension des données) et d'autres algorithmes d'apprentissage implémentés dans scikit-learn (par exemple SVM, perceptrons multi-couches) pour essayer d'améliorer vos prédictions et reprenez la question 15."
   ]
  }
 ],
 "metadata": {
  "kernelspec": {
   "display_name": "Python 3",
   "language": "python",
   "name": "python3"
  },
  "language_info": {
   "codemirror_mode": {
    "name": "ipython",
    "version": 3
   },
   "file_extension": ".py",
   "mimetype": "text/x-python",
   "name": "python",
   "nbconvert_exporter": "python",
   "pygments_lexer": "ipython3",
   "version": "3.8.3"
  }
 },
 "nbformat": 4,
 "nbformat_minor": 5
}
